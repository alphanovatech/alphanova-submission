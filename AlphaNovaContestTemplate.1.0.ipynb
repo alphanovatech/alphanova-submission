{
 "cells": [
  {
   "cell_type": "markdown",
   "id": "0d49e213-fb6e-444c-b58a-0e1a8c8ef697",
   "metadata": {},
   "source": [
    "### Challenge Title: Predicting Relative Returns in assets\n",
    "\n",
    "#### Objective\n",
    "Participants are challenged to develop a predictive signal that forecasts the relative returns of a set of assets. The goal is to create a signal $P(i)$ at each timestamp $i$ that effectively predicts the next period’s excess returns for multiple assets compared to a market index. The objective is to maximize a utility function $U$, which measures both the predictive accuracy and consistency of the signal in forecasting these relative returns.\n",
    "\n",
    "#### Background\n",
    "Financial markets are known for their nonstationarity and complex dynamics. The assets here, which will remain masked,  enable leveraged trading without an expiry date, are particularly popular and offer unique opportunities for relative return prediction. This challenge tests participants’ ability to forecast returns that are not only accurate but also consistent over time.\n",
    "\n",
    "#### Data Description\n",
    "- **Input Data:** A time series of returns from assets, $X(i) = (X_1(i), X_2(i), ..., X_J(i))$, where $i$ denotes the time index expressed as an integer, and each $X_j(i)$ represents the return of the $j$-th asset at time $i$.\n",
    "- **Prediction Target:** At each time $i$, participants will predict a vector signal $P(i) = (P_1(i), P_2(i), ..., P_J(i))$, where each $P_j(i)$ represents the participant’s prediction for the relative return of the $j$-th asset in the next time step, $i+1$, compared to the index.\n",
    "\n",
    "   > **Note:** The actual values of the target relative returns, $R(i+1)$, are obfuscated to maintain data confidentiality, and participants will work with pre-processed, relative return values that do not reveal underlying raw prices.\n",
    "\n",
    "- **Feature Data:** In addition to historical return data, participants will have access to a set of obfuscated features. Each timestamp $i$ is associated with a feature vector $F(i) = (F_1(i), F_2(i), ..., F_K(i))$, where $K$ is the number of available features, and each feature is identified only by its index (e.g., $F_1, F_2, \\dots, F_K$).\n",
    "\n",
    "#### Objective Function (Utility)\n",
    "The performance of each submission will be evaluated using the following utility function:\n",
    "\n",
    "$$\n",
    "U = \\frac{\\mathbb{E}[P(i) \\cdot R(i+1)]}{\\operatorname{std}(P(i) \\cdot R(i+1))}\n",
    "$$\n",
    "\n",
    "where:\n",
    "- $ R(i+1) $ represents the vector of relative returns of each asset versus the index at time $i+1$.\n",
    "- The term $P(i) \\cdot R(i+1)$ captures the alignment between the prediction $P(i)$ and the realized relative return $R(i+1)$.\n",
    "- The numerator, $\\mathbb{E}[P(i) \\cdot R(i+1)]$, represents the average predictive alignment.\n",
    "- The denominator, $\\operatorname{std}(P(i) \\cdot R(i+1))$, promotes stability by penalizing high variance.\n",
    "\n",
    "#### Scoring Criteria\n",
    "\n",
    "For now we will ignore overfitting tests, but in the future, when we are up an running with material capital, overfit signals will be flagged and disqualified. You may read about overfitting in the literature. For example, \"The Deflated Sharpe Ratio: Correcting for Selection Bias, Backtest Overfitting and Non-Normality\" by De Prado and Bailey. We encourage you to do your own overfitting tests. the return values of the Optimization in the example below would allow one to easily use some of the methods in the aforementioned paper.\n",
    "\n",
    "Participants submissions be ranked based on their utility $U$, which can be interpreted as a non-scaled Sharpe Ratio, assuming zero transaction costs. This scoring assumes:\n",
    "- **Nominal position sizes** in each asset are determined directly by the predictions $P(i)$.\n",
    "- An **offsetting hedge** is taken in an index, with size equal to the sum of predictions at each timestamp, resulting in a market-neutral strategy.\n",
    "\n",
    "1. **Accuracy**: High values of $P(i) \\cdot R(i+1)$ indicate strong predictive alignment with the relative returns.\n",
    "2. **Consistency**: Lower standard deviation of $P(i) \\cdot R(i+1)$ rewards predictions that maintain stability over time, resulting in a more robust $U$.\n",
    "\n",
    "#### Submission Format\n",
    "The submission should be a copy of this notebook, or a .py file with same content as this template, except for your specific predictor. PLEASE NAME YOUR NOTEBOOK IN THE FORM \"AlphaNovaContestTemplate.<your email address>\" WITH EITHER THE RESPECTIVE NOTEBOOK OR .PY SUFFIX. Follow the example below and create your own Predictor class in place of the example class that is defined. Your work will involve a) creating parameters, b) optimizing and c) prediction logic, all clearly defined in the methods of the base class.   You do *not* have to follow the example's optimization approach, which is rudimentary brute force search over a defined grid of parameters. Submit your work to \"competitions [at] alphanova.tech\"\n",
    "\n",
    "The output of your prediction, as per the example below should be a dataframe with the following information:  For each time $i$, participants must submit a vector $P(i) = (P_1(i), P_2(i), ..., P_J(i))$ that represents their forecast for the next time step’s relative returns across all assets in the dataset.\n",
    "\n",
    "#### Guidelines\n",
    "- **Direct Signal Usage**: To ensure simplicity and transparency, participants should submit $P(i) = K(i)$, meaning no additional scaling factors (such as $\\beta$) are applied to the predictions.  \n",
    "- **Robustness Across Market Conditions**: Given the high volatility and nonstationarity of markets, signals that perform well across diverse market regimes are encouraged.\n",
    "\n",
    "#### Winning Criteria\n",
    "The participant with the highest utility $U$ over the Evaluation Period will be declared the winner. In the event that multiple users by chance have the same winning utility, we will reward the full prize to the contestant who submitted his/her solution *first*.\n",
    "\n",
    "#### Evaluation Period\n",
    "The evaluation will be conducted over a hidden holdout period, during which $ U $ will be calculated based on the predictions submitted by participants.  \n",
    "\n",
    "#### Additional Notes\n",
    "- **Data Confidentiality**: Both target returns and feature data are obfuscated. Features are labeled only by an index, and timestamps are represented as sequential integers.\n",
    "- **Scoring Interpretation**: The utility function $ U $ is designed as a **non-scaled Sharpe Ratio** assuming a zero-cost, market-neutral strategy, where nominal positions are determined by the predictions $P(i)$ with an offsetting index hedge equal to the sum of predictions.\n",
    "\n",
    "#### Submission Deadline\n",
    "This will be detailed in the email in which this was attached.\n",
    "\n",
    "#### Important Note for the avoidance of doubt\n",
    "The only things you need to change in your version of this notebook are a) possible additional imports of modules and b) replace the example Prediction class with its own parameters, optimize and predict methods.  Don't edit anything else"
   ]
  },
  {
   "cell_type": "markdown",
   "id": "a455d6d7-ca89-4e0b-8fcd-f5e5c779dbde",
   "metadata": {},
   "source": [
    "# Example of prediction"
   ]
  },
  {
   "cell_type": "code",
   "execution_count": 144,
   "id": "2d9d7871-a19f-4ff0-8cd8-bd0be7ded8c3",
   "metadata": {},
   "outputs": [],
   "source": [
    "import pandas as pd\n",
    "from sklearn.model_selection import train_test_split\n",
    "import numpy as np\n",
    "import matplotlib.pyplot as plt\n",
    "from itertools import product\n"
   ]
  },
  {
   "cell_type": "markdown",
   "id": "677e7dea-1994-42cd-85fc-3c52d2f49ea0",
   "metadata": {},
   "source": [
    "## read in data"
   ]
  },
  {
   "cell_type": "code",
   "execution_count": 145,
   "id": "b09f8bd6-ae84-42e2-b94d-f29d07e4e85d",
   "metadata": {},
   "outputs": [],
   "source": [
    "returns=pd.read_pickle(\"returns.pkl\")\n",
    "target=pd.read_pickle(\"rel_returns.pkl\")\n",
    "features=pd.read_pickle(\"features.pkl\")"
   ]
  },
  {
   "cell_type": "markdown",
   "id": "39fe7505-a0b8-45fb-b683-24a29ee38f72",
   "metadata": {},
   "source": [
    "# split into train and test.  please use test_size=0.25 as indicated below"
   ]
  },
  {
   "cell_type": "code",
   "execution_count": 146,
   "id": "9f5ca0ee-0346-45ca-b029-8c1a47be8ec9",
   "metadata": {},
   "outputs": [],
   "source": [
    "train_target, test_target = train_test_split(target, test_size=0.25,shuffle=False )\n",
    "train_returns, test_returns = train_test_split(returns, test_size=0.25,shuffle=False)\n",
    "train_features, test_features = train_test_split(features, test_size=0.25,shuffle=False )\n",
    "\n",
    "train_data={'returns':train_returns,'features':train_features}\n",
    "\n",
    "test_data={'returns':test_returns,'features':test_features}"
   ]
  },
  {
   "cell_type": "markdown",
   "id": "e7dcc00b-995b-4175-9db0-3ab47b9d3750",
   "metadata": {},
   "source": [
    "## helper functions"
   ]
  },
  {
   "cell_type": "code",
   "execution_count": 159,
   "id": "e4cbaea9-b627-4b5a-92eb-0713c7ef0b22",
   "metadata": {},
   "outputs": [],
   "source": [
    "def backtest(predictions,relative_returns):\n",
    "    predictions.ffill(inplace=True)\n",
    "    #the following is closely relatived to measuring the lead lag correlation of the prediction to the outcome.\n",
    "    pf_returns = (predictions.shift(1)).mul(relative_returns.values).sum(axis=1)\n",
    "    pf_returns.iloc[0] = 0  # first day return is 0, because we do not have prediction for time i=-1\n",
    "    return pf_returns\n",
    "\n",
    "def returns_to_equity(returns):\n",
    "    equity = returns.add(1).cumprod()\n",
    "    return equity\n",
    "\n",
    "def utility_sharpe(returns):\n",
    "    unscaled_sharpe=returns.mean()/returns.std()\n",
    "    return float(unscaled_sharpe)"
   ]
  },
  {
   "cell_type": "code",
   "execution_count": 148,
   "id": "f04739e0-2f64-4417-9f9d-8a5594722055",
   "metadata": {},
   "outputs": [],
   "source": [
    "from abc import ABC, abstractmethod\n",
    "\n",
    "import numpy as np\n",
    "import pandas as pd\n",
    "import math\n",
    "\n",
    "def ClassByName(classname):\n",
    "    cls = globals()[classname]\n",
    "\n",
    "    return cls()\n",
    "\n",
    "def PredictorFactory(config):\n",
    "    ind=ClassByName(config['type'])\n",
    "    ind.set_parms(**config['parms'])\n",
    "    return ind\n",
    "\n",
    "class Predictor(ABC):\n",
    "\n",
    "    @abstractmethod\n",
    "    def set_parms(self, **parms):\n",
    "        pass\n",
    "\n",
    "    @abstractmethod\n",
    "    #find best parameters, whether explicit or implicit to maximize utility\n",
    "    def optimize(self, data,target):\n",
    "        pass\n",
    "\n",
    "    @abstractmethod\n",
    "    def predict(self,data):\n",
    "        pass\n",
    "\n",
    "\n",
    "class RollingAverageReturn(Predictor):\n",
    "\n",
    "    def __init__(self,window=1,direction=1):\n",
    "        self._window=window\n",
    "        self._direction=direction\n",
    "\n",
    "    def set_parms(self, **parms):\n",
    "        self._window = parms['window']\n",
    "        self._direction=parms['direction']\n",
    "\n",
    "    def optimize(self,data,target):\n",
    "        param_space = {\n",
    "            \"window\": range(1,500),\n",
    "            \"direction\":[-1,1]\n",
    "        }\n",
    "        best_utility=-100\n",
    "        best_parms=None\n",
    "        df_strategy_returns=pd.DataFrame()\n",
    "        c=0\n",
    "        for values in product(*param_space.values()):\n",
    "            parms = {key: val for key, val in zip(param_space.keys(), values)}\n",
    "            self.set_parms(**parms)\n",
    "            predictions = self.predict(data)\n",
    "            strategy_returns = backtest(predictions,target)\n",
    "\n",
    "            utility=utility_sharpe(strategy_returns)\n",
    "     \n",
    "            \n",
    "       \n",
    "            if utility>best_utility:\n",
    "                best_parms=parms\n",
    "                best_utility=utility\n",
    "            df_strategy_returns[str(parms)]=strategy_returns\n",
    "\n",
    "        self.set_parms(**best_parms)\n",
    "\n",
    "        return df_strategy_returns,best_parms,float(best_utility)\n",
    "            \n",
    "                \n",
    "\n",
    "\n",
    "    def predict(self,data):\n",
    "  \n",
    "        returns=(data['returns'])\n",
    "\n",
    "        #smooths the sign of returns \n",
    "        pred = self._direction*returns.rolling(window=self._window).mean()\n",
    "\n",
    "        #normalizes so sum of absolute valuies of predictons is 1\n",
    "        pred=pred.divide(abs(pred).sum(axis=1),axis=0)\n",
    "        return pred"
   ]
  },
  {
   "cell_type": "markdown",
   "id": "f5dc0d4d-afa0-4626-8805-15eff392905b",
   "metadata": {},
   "source": [
    "# train"
   ]
  },
  {
   "cell_type": "code",
   "execution_count": 149,
   "id": "0bf06c1f-0501-4ca9-8554-3bd1cd3236b6",
   "metadata": {},
   "outputs": [],
   "source": [
    "predictor=RollingAverageReturn()\n",
    "df_strategy_returns,best_parms,best_utility=predictor.optimize(train_data,train_target)"
   ]
  },
  {
   "cell_type": "code",
   "execution_count": 150,
   "id": "af3af423-13c5-469f-9318-2a2def3f93b0",
   "metadata": {},
   "outputs": [
    {
     "data": {
      "text/plain": [
       "{'window': 1, 'direction': -1}"
      ]
     },
     "execution_count": 150,
     "metadata": {},
     "output_type": "execute_result"
    }
   ],
   "source": [
    "best_parms"
   ]
  },
  {
   "cell_type": "code",
   "execution_count": 151,
   "id": "3cd030c4-24de-414e-a3d5-dac9e29023fb",
   "metadata": {},
   "outputs": [
    {
     "data": {
      "text/plain": [
       "0.04860239771599099"
      ]
     },
     "execution_count": 151,
     "metadata": {},
     "output_type": "execute_result"
    }
   ],
   "source": [
    "best_utility"
   ]
  },
  {
   "cell_type": "markdown",
   "id": "1ad0c9bf-d49c-4bb3-bf34-52e3f3296ebb",
   "metadata": {},
   "source": [
    "### train backtest"
   ]
  },
  {
   "cell_type": "code",
   "execution_count": 152,
   "id": "47a91ae2-8596-4f0c-af27-fb5974ed613f",
   "metadata": {},
   "outputs": [
    {
     "data": {
      "text/plain": [
       "<Axes: >"
      ]
     },
     "execution_count": 152,
     "metadata": {},
     "output_type": "execute_result"
    },
    {
     "data": {
      "image/png": "[encoded data removed]",
      "text/plain": [
       "<Figure size 640x480 with 1 Axes>"
      ]
     },
     "metadata": {},
     "output_type": "display_data"
    }
   ],
   "source": [
    "returns_to_equity(df_strategy_returns[str(best_parms)]).plot()"
   ]
  },
  {
   "cell_type": "markdown",
   "id": "764c1e10-5826-48cf-a8fb-b8c96632ac36",
   "metadata": {},
   "source": [
    "# test"
   ]
  },
  {
   "cell_type": "code",
   "execution_count": 153,
   "id": "14576a45-3503-4040-b3d8-e3a9085a60eb",
   "metadata": {},
   "outputs": [],
   "source": [
    "predictor_best=RollingAverageReturn(**best_parms)"
   ]
  },
  {
   "cell_type": "code",
   "execution_count": 154,
   "id": "3f0e7a41-b5f5-4207-9838-a9ca80bd4d7d",
   "metadata": {},
   "outputs": [],
   "source": [
    "predictions=predictor_best.predict(test_data)"
   ]
  },
  {
   "cell_type": "code",
   "execution_count": 155,
   "id": "44d85bb5-73eb-4e44-8ca8-30b3deb6f791",
   "metadata": {},
   "outputs": [],
   "source": [
    "pnl=backtest(predictions,test_target)"
   ]
  },
  {
   "cell_type": "code",
   "execution_count": 156,
   "id": "22d3ebb4-c76a-4235-b7e2-ca9c9407617a",
   "metadata": {},
   "outputs": [],
   "source": [
    "utility=utility_sharpe(pnl)"
   ]
  },
  {
   "cell_type": "code",
   "execution_count": 157,
   "id": "94e5288b-f329-4a0e-88f5-9d99b5033087",
   "metadata": {},
   "outputs": [
    {
     "data": {
      "text/plain": [
       "np.float64(0.011014596703486996)"
      ]
     },
     "execution_count": 157,
     "metadata": {},
     "output_type": "execute_result"
    }
   ],
   "source": [
    "utility"
   ]
  },
  {
   "cell_type": "markdown",
   "id": "831750d6-4b93-450b-96a0-4759fd317914",
   "metadata": {},
   "source": [
    "## test backtest"
   ]
  },
  {
   "cell_type": "code",
   "execution_count": 158,
   "id": "76959493-0a88-45f9-b953-a31c926b0a6a",
   "metadata": {},
   "outputs": [
    {
     "data": {
      "text/plain": [
       "<Axes: >"
      ]
     },
     "execution_count": 158,
     "metadata": {},
     "output_type": "execute_result"
    },
    {
     "data": {
      "image/png": "[encoded data removed]",
      "text/plain": [
       "<Figure size 640x480 with 1 Axes>"
      ]
     },
     "metadata": {},
     "output_type": "display_data"
    }
   ],
   "source": [
    "returns_to_equity(pnl).plot()"
   ]
  },
  {
   "cell_type": "code",
   "execution_count": null,
   "id": "dd3fa9d2-fc6d-4a77-a67b-aabdd29f6067",
   "metadata": {},
   "outputs": [],
   "source": []
  },
  {
   "cell_type": "code",
   "execution_count": null,
   "id": "6712b753-9a2f-4147-a87c-65aeec029196",
   "metadata": {},
   "outputs": [],
   "source": []
  },
  {
   "cell_type": "code",
   "execution_count": null,
   "id": "60fe5ffe-9c47-4c1d-814e-4efb19916f13",
   "metadata": {},
   "outputs": [],
   "source": []
  },
  {
   "cell_type": "code",
   "execution_count": null,
   "id": "7f842aec-35ae-4bdc-b6a7-3455b73ebb42",
   "metadata": {},
   "outputs": [],
   "source": []
  },
  {
   "cell_type": "code",
   "execution_count": null,
   "id": "2e8d17b5-7a93-4bfd-975c-716a040c5f7f",
   "metadata": {},
   "outputs": [],
   "source": []
  },
  {
   "cell_type": "code",
   "execution_count": null,
   "id": "739400de-c626-4f0c-971a-e9ece3cd4f24",
   "metadata": {},
   "outputs": [],
   "source": []
  }
 ],
 "metadata": {
  "kernelspec": {
   "display_name": "Python 3 (ipykernel)",
   "language": "python",
   "name": "python3"
  },
  "language_info": {
   "codemirror_mode": {
    "name": "ipython",
    "version": 3
   },
   "file_extension": ".py",
   "mimetype": "text/x-python",
   "name": "python",
   "nbconvert_exporter": "python",
   "pygments_lexer": "ipython3",
   "version": "3.12.4"
  }
 },
 "nbformat": 4,
 "nbformat_minor": 5
}
